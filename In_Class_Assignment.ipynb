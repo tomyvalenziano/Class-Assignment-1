{
  "nbformat": 4,
  "nbformat_minor": 0,
  "metadata": {
    "colab": {
      "provenance": [],
      "authorship_tag": "ABX9TyMMgFkjmu36chmBzt1InIYT",
      "include_colab_link": true
    },
    "kernelspec": {
      "name": "python3",
      "display_name": "Python 3"
    },
    "language_info": {
      "name": "python"
    }
  },
  "cells": [
    {
      "cell_type": "markdown",
      "metadata": {
        "id": "view-in-github",
        "colab_type": "text"
      },
      "source": [
        "<a href=\"https://colab.research.google.com/github/tomyvalenziano/Class-Assignment-1/blob/main/In_Class_Assignment.ipynb\" target=\"_parent\"><img src=\"https://colab.research.google.com/assets/colab-badge.svg\" alt=\"Open In Colab\"/></a>"
      ]
    },
    {
      "cell_type": "code",
      "execution_count": 2,
      "metadata": {
        "colab": {
          "base_uri": "https://localhost:8080/"
        },
        "id": "TAtLoznxpIjr",
        "outputId": "1dbc239e-b6f9-4db6-c731-55f4b4240340"
      },
      "outputs": [
        {
          "output_type": "stream",
          "name": "stdout",
          "text": [
            "Please Input Your Radius:2\n",
            "Please Input Your Height:2\n",
            "the are of the cylinder is  50.24 sq.ft\n"
          ]
        }
      ],
      "source": [
        "Pi = 3.14\n",
        "radius = int(input(\"Please Input Your Radius:\"))\n",
        "height = int(input(\"Please Input Your Height:\"))\n",
        "area = (2*Pi*radius**2)+(2*Pi*radius*height)\n",
        "print (\"the are of the cylinder is \",area, \"sq.ft\")\n"
      ]
    }
  ]
}