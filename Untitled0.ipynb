{
  "nbformat": 4,
  "nbformat_minor": 0,
  "metadata": {
    "colab": {
      "provenance": [],
      "authorship_tag": "ABX9TyOR3D2AaS37EzXyayW3sROn",
      "include_colab_link": true
    },
    "kernelspec": {
      "name": "python3",
      "display_name": "Python 3"
    },
    "language_info": {
      "name": "python"
    }
  },
  "cells": [
    {
      "cell_type": "markdown",
      "metadata": {
        "id": "view-in-github",
        "colab_type": "text"
      },
      "source": [
        "<a href=\"https://colab.research.google.com/github/tomyvalenziano/Class-Assignment-1/blob/main/Untitled0.ipynb\" target=\"_parent\"><img src=\"https://colab.research.google.com/assets/colab-badge.svg\" alt=\"Open In Colab\"/></a>"
      ]
    },
    {
      "cell_type": "code",
      "source": [
        "\n",
        "\n",
        "# Prices\n",
        "base_fee = 5.0\n",
        "hourly_rate = 2.5\n",
        "min_fee = 10.0\n",
        "max_fee = 20.0\n",
        "\n",
        "# Loop through hours from 1 to 8\n",
        "for hours in range(1, 9):\n",
        "    fee = base_fee + (hours * hourly_rate)  # Calculate total fee\n",
        "    if fee < min_fee:\n",
        "        fee = min_fee  # Ensure minimum fee is $10\n",
        "    if fee > max_fee:\n",
        "        fee = max_fee  # Ensure maximum fee is $20\n",
        "\n",
        "    print(hours, fee)  # Print the hours and corresponding fee\n",
        ""
      ],
      "metadata": {
        "colab": {
          "base_uri": "https://localhost:8080/"
        },
        "id": "IGMTsE94aAzF",
        "outputId": "95005004-3e94-4ba9-8166-15167412e3e2"
      },
      "execution_count": 4,
      "outputs": [
        {
          "output_type": "stream",
          "name": "stdout",
          "text": [
            "1 10.0\n",
            "2 10.0\n",
            "3 12.5\n",
            "4 15.0\n",
            "5 17.5\n",
            "6 20.0\n",
            "7 20.0\n",
            "8 20.0\n"
          ]
        }
      ]
    },
    {
      "cell_type": "code",
      "source": [
        "# Prices and costs\n",
        "ticket_price = 10\n",
        "fixed_cost = 200\n",
        "\n",
        "# Loop through different advertising amounts\n",
        "for ad_cost in range(0, 225, 25):  # 0 to 200 in steps of 25\n",
        "    additional_attendees = 2 * round(ad_cost ** 0.5)  # Formula for extra people\n",
        "    total_attendees = 20 + additional_attendees  # Base 20 attendees plus extra\n",
        "    revenue = total_attendees * ticket_price  # Calculate revenue\n",
        "    profit = revenue - fixed_cost - ad_cost  # Subtract costs\n",
        "\n",
        "    print(f\"{ad_cost:.1f} {profit:.1f}\")  # Print values with one decimal point"
      ],
      "metadata": {
        "colab": {
          "base_uri": "https://localhost:8080/"
        },
        "id": "hXl0NYLGdLEB",
        "outputId": "3dfbeae0-7f50-4f61-e5a8-fa95907d9c48"
      },
      "execution_count": 7,
      "outputs": [
        {
          "output_type": "stream",
          "name": "stdout",
          "text": [
            "0.0 0.0\n",
            "25.0 75.0\n",
            "50.0 90.0\n",
            "75.0 105.0\n",
            "100.0 100.0\n",
            "125.0 95.0\n",
            "150.0 90.0\n",
            "175.0 85.0\n",
            "200.0 80.0\n"
          ]
        }
      ]
    }
  ]
}