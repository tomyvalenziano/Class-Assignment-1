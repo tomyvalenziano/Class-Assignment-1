{
  "nbformat": 4,
  "nbformat_minor": 0,
  "metadata": {
    "colab": {
      "provenance": [],
      "authorship_tag": "ABX9TyPgqni5KP+N8PLPhO99MiZT",
      "include_colab_link": true
    },
    "kernelspec": {
      "name": "python3",
      "display_name": "Python 3"
    },
    "language_info": {
      "name": "python"
    }
  },
  "cells": [
    {
      "cell_type": "markdown",
      "metadata": {
        "id": "view-in-github",
        "colab_type": "text"
      },
      "source": [
        "<a href=\"https://colab.research.google.com/github/tomyvalenziano/Class-Assignment-1/blob/main/Assignment_1_Tomas_Valenziano.ipynb\" target=\"_parent\"><img src=\"https://colab.research.google.com/assets/colab-badge.svg\" alt=\"Open In Colab\"/></a>"
      ]
    },
    {
      "cell_type": "code",
      "execution_count": 14,
      "metadata": {
        "colab": {
          "base_uri": "https://localhost:8080/"
        },
        "id": "jHbjiaaKdtaL",
        "outputId": "f24860b1-1970-4153-b2da-2fd6356c1bf7"
      },
      "outputs": [
        {
          "output_type": "stream",
          "name": "stdout",
          "text": [
            "Please input your radius: 2\n",
            "Please input your height: 2\n",
            "The area of the cylinder is 50.24 sq. ft\n"
          ]
        }
      ],
      "source": [
        "#Cylinder Area Calculator\n",
        "pi = 3.14\n",
        "radius = int(input(\"Please input your radius: \"))\n",
        "height = int(input(\"Please input your height: \"))\n",
        "area = ((2 * pi * radius ** 2) + (2 * pi * radius * height))\n",
        "print(f\"The area of the cylinder is {area} sq. ft\")\n"
      ]
    },
    {
      "cell_type": "code",
      "source": [
        "\n",
        "#Numerical Calculator\n",
        "number1 = float(input(\"Please input your first number: \"))\n",
        "number2 = float(input(\"Please input your second number: \"))\n",
        "operation = input(\"Please input your operation: \")\n",
        "\n",
        "if operation == \"+\":\n",
        "    print(number1 + number2)\n",
        "elif operation == \"-\":\n",
        "    print(number1 - number2)\n",
        "elif operation == \"*\":\n",
        "    print(number1 * number2)\n",
        "elif operation == \"/\":\n",
        "    print(number1 / number2)\n",
        "elif operation == \"//\":\n",
        "    print(number1 // number2)\n",
        "elif operation == \"%\":\n",
        "    print(number1 % number2)\n",
        "elif operation == \"**\":\n",
        "    print(number1 ** number2)\n",
        "else:\n",
        "    print(\"Invalid input\")\n"
      ],
      "metadata": {
        "colab": {
          "base_uri": "https://localhost:8080/"
        },
        "id": "JUl1Hr5lhyXX",
        "outputId": "16e05f11-00ea-4edb-d7cb-26a8f2ce5200"
      },
      "execution_count": 16,
      "outputs": [
        {
          "output_type": "stream",
          "name": "stdout",
          "text": [
            "Please input your first number: 2\n",
            "Please input your second number: 2\n",
            "Please input your operation: +\n",
            "4.0\n"
          ]
        }
      ]
    },
    {
      "cell_type": "code",
      "source": [
        "\n",
        "#Parking Garage\n",
        "for number in range(1, 9, 1):\n",
        "    fee = float(5 + number * 2.50)\n",
        "    if fee < 10:\n",
        "        print(number, 10.0)\n",
        "    elif fee > 20:\n",
        "        print(number, 20.0)\n",
        "    else:\n",
        "        print(number, fee)\n"
      ],
      "metadata": {
        "colab": {
          "base_uri": "https://localhost:8080/"
        },
        "id": "TweBMsxkh0ys",
        "outputId": "ac97dc1c-7863-4950-e79c-d337a2d15bcf"
      },
      "execution_count": 20,
      "outputs": [
        {
          "output_type": "stream",
          "name": "stdout",
          "text": [
            "1 10.0\n",
            "2 10.0\n",
            "3 12.5\n",
            "4 15.0\n",
            "5 17.5\n",
            "6 20.0\n",
            "7 20.0\n",
            "8 20.0\n"
          ]
        }
      ]
    },
    {
      "cell_type": "code",
      "source": [
        "\n",
        "#Movie Theater\n",
        "print(\"Ads\", \"Profit\")\n",
        "for adAmount in range(0, 201, 25):\n",
        "    addAttendees = (20 + (2 * round(adAmount * 0.5)))\n",
        "    profit = float((10 * addAttendees) - adAmount - 200)\n",
        "    print(adAmount, profit)\n"
      ],
      "metadata": {
        "colab": {
          "base_uri": "https://localhost:8080/"
        },
        "id": "U2-1UNB1h3Vj",
        "outputId": "e6f85bff-4454-489e-f2ba-ad1395e7b8d7"
      },
      "execution_count": 27,
      "outputs": [
        {
          "output_type": "stream",
          "name": "stdout",
          "text": [
            "Ads Profit\n",
            "0 0.0\n",
            "25 215.0\n",
            "50 450.0\n",
            "75 685.0\n",
            "100 900.0\n",
            "125 1115.0\n",
            "150 1350.0\n",
            "175 1585.0\n",
            "200 1800.0\n"
          ]
        }
      ]
    },
    {
      "cell_type": "code",
      "source": [
        "\n",
        "#Rock-Paper-Scissors\n",
        "initialQuestion = input(\"Would you like to play Rock, Paper, Scissors? Please type Yes or No: \")\n",
        "while initialQuestion == \"Yes\":\n",
        "    firstPlayer = input(\"Player 1, Please choose Rock, Paper, or Scissors: \")\n",
        "    secondPlayer = input(\"Player 2, Please choose Rock, Paper, or Scissors: \")\n",
        "\n",
        "    if firstPlayer == secondPlayer:\n",
        "        print(\"It's a tie!\")\n",
        "    elif (firstPlayer == \"Rock\" and secondPlayer == \"Scissors\") or \\\n",
        "         (firstPlayer == \"Paper\" and secondPlayer == \"Rock\") or \\\n",
        "         (firstPlayer == \"Scissors\" and secondPlayer == \"Paper\"):\n",
        "        print(\"Player 1 wins!\")\n",
        "    else:\n",
        "        print(\"Player 2 wins!\")\n",
        "\n",
        "    initialQuestion = input(\"Would you like to play another game of Rock, Paper, Scissors? Please type Yes or No: \")\n",
        "\n",
        "print(\"Goodbye\")\n"
      ],
      "metadata": {
        "colab": {
          "base_uri": "https://localhost:8080/"
        },
        "id": "42TcVbdTh5GW",
        "outputId": "9aedcf05-c0c5-4ca9-bcf0-da149479d59d"
      },
      "execution_count": 29,
      "outputs": [
        {
          "output_type": "stream",
          "name": "stdout",
          "text": [
            "Would you like to play Rock, Paper, Scissors? Please type Yes or No: Yes\n",
            "Player 1, Please choose Rock, Paper, or Scissors: Rock\n",
            "Player 2, Please choose Rock, Paper, or Scissors: Paper\n",
            "Player 2 wins!\n",
            "Would you like to play another game of Rock, Paper, Scissors? Please type Yes or No: No\n",
            "Goodbye\n"
          ]
        }
      ]
    },
    {
      "cell_type": "code",
      "source": [
        "\n",
        "#Append Items to List Iteratively\n",
        "lst = []\n",
        "num = float(input(\"Please input a numerical number: \"))\n",
        "while num != 0:\n",
        "    lst.append(num)\n",
        "    num = float(input(\"Please input a numerical number: \"))\n",
        "lst.sort(reverse=True)\n",
        "print(lst)\n"
      ],
      "metadata": {
        "colab": {
          "base_uri": "https://localhost:8080/"
        },
        "id": "t6mJOTJRh7C_",
        "outputId": "2e5e0e1f-8679-4964-b267-9c4b045c0988"
      },
      "execution_count": 30,
      "outputs": [
        {
          "output_type": "stream",
          "name": "stdout",
          "text": [
            "Please input a numerical number: 2\n",
            "Please input a numerical number: 2\n",
            "Please input a numerical number: 4\n",
            "Please input a numerical number: 5\n",
            "Please input a numerical number: 6\n",
            "Please input a numerical number: 7\n",
            "Please input a numerical number: 7\n",
            "Please input a numerical number: 8\n",
            "Please input a numerical number: 8\n",
            "Please input a numerical number: 9\n",
            "Please input a numerical number: 10\n",
            "Please input a numerical number: 0\n",
            "[10.0, 9.0, 8.0, 8.0, 7.0, 7.0, 6.0, 5.0, 4.0, 2.0, 2.0]\n"
          ]
        }
      ]
    },
    {
      "cell_type": "code",
      "source": [
        "\n",
        "#Dynamic Dictionary (5 Distinct Key-Value Pairs)\n",
        "counts = {}\n",
        "word = input(\"Please input a word: \")\n",
        "\n",
        "while len(counts) < 5:\n",
        "    if word in counts:\n",
        "        counts[word] += 1\n",
        "    else:\n",
        "        counts[word] = 1\n",
        "    word = input(\"Please input a word: \")\n",
        "\n",
        "print(counts)\n"
      ],
      "metadata": {
        "colab": {
          "base_uri": "https://localhost:8080/"
        },
        "id": "653704iOh8Yl",
        "outputId": "a9514c3a-e9d5-40de-c5c1-c14fc2c21fc6"
      },
      "execution_count": 31,
      "outputs": [
        {
          "output_type": "stream",
          "name": "stdout",
          "text": [
            "Please input a word: Win\n",
            "Please input a word: Lock\n",
            "Please input a word: Car\n",
            "Please input a word: Giraffe\n",
            "Please input a word: Lockheed\n",
            "Please input a word: NVDA\n",
            "{'Win': 1, 'Lock': 1, 'Car': 1, 'Giraffe': 1, 'Lockheed': 1}\n"
          ]
        }
      ]
    },
    {
      "cell_type": "code",
      "source": [
        "\n",
        "#Parking Garage: calcFee Function\n",
        "def calcFee(hours):\n",
        "    fee = (5 + hours * 2.50)\n",
        "    if fee < 10:\n",
        "        fee = 10.0\n",
        "    elif fee > 20:\n",
        "        fee = 20.0\n",
        "    print(f\"Parking fee: ${fee}\")\n",
        "\n",
        "def main():\n",
        "    try:\n",
        "        numberHours = int(input(\"Please input the number of hours parked: \"))\n",
        "        calcFee(numberHours)\n",
        "    except ValueError:\n",
        "        print(\"Invalid Input. Please enter a positive integer (1, 2, 3, etc.)\")\n",
        "    except:\n",
        "        print(\"Unexpected error...\")\n",
        "\n",
        "if __name__ == \"__main__\":\n",
        "    main()\n"
      ],
      "metadata": {
        "colab": {
          "base_uri": "https://localhost:8080/"
        },
        "id": "vMfFLbbTh9zd",
        "outputId": "19425cd1-bab0-45de-cfd2-c7c496b3302e"
      },
      "execution_count": 32,
      "outputs": [
        {
          "output_type": "stream",
          "name": "stdout",
          "text": [
            "Please input the number of hours parked: 20\n",
            "Parking fee: $20.0\n"
          ]
        }
      ]
    },
    {
      "cell_type": "code",
      "source": [
        "#Recursive Function: String Reversal\n",
        "def reverseString(string1):\n",
        "    if len(string1) <= 1:\n",
        "        return string1\n",
        "    else:\n",
        "        return string1[-1] + reverseString(string1[:-1])\n",
        "\n",
        "print(reverseString(\"Tomy\"))\n"
      ],
      "metadata": {
        "colab": {
          "base_uri": "https://localhost:8080/"
        },
        "id": "My6USSR8h-re",
        "outputId": "c2f90ceb-385e-4068-e06e-c38d8be9b612"
      },
      "execution_count": 33,
      "outputs": [
        {
          "output_type": "stream",
          "name": "stdout",
          "text": [
            "ymoT\n"
          ]
        }
      ]
    },
    {
      "cell_type": "code",
      "source": [
        "\n",
        "#Parking Garage: Try-Except Version\n",
        "def calcFee(hours):\n",
        "    fee = (5 + hours * 2.50)\n",
        "    if fee < 10:\n",
        "        fee = 10.0\n",
        "    elif fee > 20:\n",
        "        fee = 20.0\n",
        "    print(f\"Parking fee: ${fee}\")\n",
        "\n",
        "def main():\n",
        "    try:\n",
        "        numberHours = int(input(\"Please input the number of hours parked: \"))\n",
        "        calcFee(numberHours)\n",
        "    except ValueError:\n",
        "        print(\"Invalid Input. Please enter a positive integer (1, 2, 3, etc.)\")\n",
        "    except:\n",
        "        print(\"Unexpected error...\")\n",
        "\n",
        "if __name__ == \"__main__\":\n",
        "    main()\n",
        "\n",
        "#Quality Control Try-Except\n",
        "def getValues():\n",
        "    aList = []\n",
        "    for i in range(6):\n",
        "        weight = float(input(\"Enter a weight: \"))\n",
        "        aList.append(weight)\n",
        "    return aList\n",
        "\n",
        "def calcAverage(aList):\n",
        "    try:\n",
        "        print(f\"The average weight is {sum(aList[2:]) / len(aList[2:])} lbs.\")\n",
        "    except ZeroDivisionError:\n",
        "        print(\"The list is empty!\")\n",
        "\n",
        "if __name__ == \"__main__\":\n",
        "    try:\n",
        "        n = int(input(\"Enter the number of weights: \"))\n",
        "        aList = getValues()\n",
        "        calcAverage(aList)\n",
        "    except ValueError:\n",
        "        print(\"Invalid Input. Please enter a positive integer (1, 2, 3, etc.)\")\n",
        "    except:\n",
        "        print(\"Unexpected error...\")\n"
      ],
      "metadata": {
        "colab": {
          "base_uri": "https://localhost:8080/"
        },
        "id": "_bwRU8lMiXxk",
        "outputId": "09a995f2-30c4-4c81-808e-8ad266853dc8"
      },
      "execution_count": 35,
      "outputs": [
        {
          "output_type": "stream",
          "name": "stdout",
          "text": [
            "Please input the number of hours parked: 0\n",
            "Parking fee: $10.0\n",
            "Enter the number of weights: 20\n",
            "Enter a weight: 10\n",
            "Enter a weight: 29\n",
            "Enter a weight: 29\n",
            "Enter a weight: 29\n",
            "Enter a weight: 30\n",
            "Enter a weight: 40\n",
            "The average weight is 32.0 lbs.\n"
          ]
        }
      ]
    },
    {
      "cell_type": "code",
      "source": [
        "\n",
        "#Greeting Class\n",
        "class Greeting:\n",
        "    def __init__(self, first, last):\n",
        "        self.first = first\n",
        "        self.last = last\n",
        "\n",
        "    def __str__(self):\n",
        "        return f\"{self.first}, {self.last}\"\n",
        "\n",
        "    def display(self, formal=False):\n",
        "        if formal:\n",
        "            print(f\"Hello {self.first} {self.last}\")\n",
        "        else:\n",
        "            print(f\"Hi {self.first}\")\n",
        "\n",
        "greeting = Greeting(\"David\", \"Appleseed\")\n",
        "greeting.display(formal=False)\n",
        "print(greeting)\n"
      ],
      "metadata": {
        "colab": {
          "base_uri": "https://localhost:8080/"
        },
        "id": "-pzQ_R4SiZk3",
        "outputId": "ff7c0ab4-5e84-4f73-c3e8-a8739fc8e5d9"
      },
      "execution_count": 37,
      "outputs": [
        {
          "output_type": "stream",
          "name": "stdout",
          "text": [
            "Hi David\n",
            "David, Appleseed\n"
          ]
        }
      ]
    },
    {
      "cell_type": "code",
      "source": [
        "\n",
        "\n",
        "#Student Class\n",
        "class Student:\n",
        "    def __init__(self, name, number):\n",
        "        self.name = name\n",
        "        self.number = number\n",
        "        self.courses = []\n",
        "\n",
        "    def enroll(self, course):\n",
        "        if course not in self.courses:\n",
        "            self.courses.append(course)\n",
        "        else:\n",
        "            print(f\"{course} is already enrolled.\")\n",
        "\n",
        "    def get_courses(self):\n",
        "        return self.courses\n",
        "\n",
        "s1 = Student(\"Bob\", 100)\n",
        "s2 = Student(\"Alice\", 101)\n",
        "\n",
        "s1.enroll(\"BTE320\")\n",
        "s1.enroll(\"BTE422\")\n",
        "print(s1.get_courses())\n"
      ],
      "metadata": {
        "colab": {
          "base_uri": "https://localhost:8080/"
        },
        "id": "iX9Bf3-Ziaca",
        "outputId": "5ba89ed9-2848-4b55-8d21-a2a22a49c7e9"
      },
      "execution_count": 38,
      "outputs": [
        {
          "output_type": "stream",
          "name": "stdout",
          "text": [
            "['BTE320', 'BTE422']\n"
          ]
        }
      ]
    },
    {
      "cell_type": "code",
      "source": [
        "\n",
        "#Point Class\n",
        "import math\n",
        "\n",
        "class Point:\n",
        "    def __init__(self, x, y):\n",
        "        self.x = x\n",
        "        self.y = y\n",
        "\n",
        "    def distance(self, other):\n",
        "        return math.sqrt((self.x - other.x) ** 2 + (self.y - other.y) ** 2)\n",
        "\n",
        "p = Point(3, 4)\n",
        "q = Point(0, 0)\n",
        "print(p.distance(q))\n"
      ],
      "metadata": {
        "colab": {
          "base_uri": "https://localhost:8080/"
        },
        "id": "p-okuREnibi4",
        "outputId": "33dd6faf-a2b8-4d19-9084-2c7fa9b38a30"
      },
      "execution_count": 39,
      "outputs": [
        {
          "output_type": "stream",
          "name": "stdout",
          "text": [
            "5.0\n"
          ]
        }
      ]
    },
    {
      "cell_type": "code",
      "source": [
        "\n",
        "#Rectangle Class\n",
        "class Rectangle:\n",
        "    def __init__(self):\n",
        "        self.c1 = Point(0, 0)\n",
        "        self.c2 = Point(0, 2)\n",
        "        self.c3 = Point(2, 0)\n",
        "        self.c4 = Point(2, 2)\n",
        "\n",
        "    def calculate_width(self):\n",
        "        return self.c1.distance(self.c2)\n",
        "\n",
        "    def calculate_length(self):\n",
        "        return self.c1.distance(self.c3)\n",
        "\n",
        "    def area(self):\n",
        "        return self.calculate_width() * self.calculate_length()\n",
        "\n",
        "square = Rectangle()\n",
        "square.area()\n"
      ],
      "metadata": {
        "colab": {
          "base_uri": "https://localhost:8080/"
        },
        "id": "5mFbIlKHicW2",
        "outputId": "6ce7eff2-ba8d-4c32-bba6-7f675f279c8a"
      },
      "execution_count": 49,
      "outputs": [
        {
          "output_type": "execute_result",
          "data": {
            "text/plain": [
              "4.0"
            ]
          },
          "metadata": {},
          "execution_count": 49
        }
      ]
    },
    {
      "cell_type": "code",
      "source": [
        "\n",
        "#Dynamic Dictionary: Number-Month Pairs\n",
        "months = {}\n",
        "names = [\"Jan\", \"Feb\", \"Mar\", \"Apr\", \"May\", \"June\", \"July\", \"Aug\", \"Sept\", \"Oct\", \"Nov\", \"Dec\"]\n",
        "numbers = [1, 2, 3, 4, 5, 6, 7, 8, 9, 10, 11, 12]\n",
        "\n",
        "for idx in range(len(numbers)):\n",
        "    months[numbers[idx]] = names[idx]\n",
        "\n",
        "print(months)\n",
        "\n",
        "\n"
      ],
      "metadata": {
        "colab": {
          "base_uri": "https://localhost:8080/"
        },
        "id": "9YcBQo8aidg9",
        "outputId": "9707429e-c086-4083-a3dc-e9d9656858b5"
      },
      "execution_count": 43,
      "outputs": [
        {
          "output_type": "stream",
          "name": "stdout",
          "text": [
            "{1: 'Jan', 2: 'Feb', 3: 'Mar', 4: 'Apr', 5: 'May', 6: 'June', 7: 'July', 8: 'Aug', 9: 'Sept', 10: 'Oct', 11: 'Nov', 12: 'Dec'}\n"
          ]
        }
      ]
    }
  ]
}